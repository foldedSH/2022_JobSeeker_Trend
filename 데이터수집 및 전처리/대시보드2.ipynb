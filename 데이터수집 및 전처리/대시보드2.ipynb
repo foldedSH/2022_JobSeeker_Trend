{
 "cells": [
  {
   "cell_type": "code",
   "execution_count": null,
   "metadata": {},
   "outputs": [],
   "source": [
    "# !pip install konlpy\n",
    "# !pip install krwordrank"
   ]
  },
  {
   "cell_type": "code",
   "execution_count": 1,
   "metadata": {},
   "outputs": [],
   "source": [
    "from konlpy.tag import Okt\n",
    "import pandas as pd\n",
    "import numpy as np\n",
    "import re\n",
    "import requests, bs4\n",
    "from urllib.parse import unquote\n",
    "\n",
    "# 텍스트 요약\n",
    "from krwordrank.sentence import summarize_with_sentences\n",
    "from krwordrank.word import KRWordRank\n",
    "from krwordrank.word import summarize_with_keywords"
   ]
  },
  {
   "cell_type": "markdown",
   "metadata": {},
   "source": [
    "### 강소기업 정보/탐방기 - 워크넷 API\n",
    "- 'busiNo': 사업자 등록번호\n",
    "- 'compNm': 사업자명\n",
    "- 'regionNm': 지역\n",
    "- 'indTypeNm': 업종명\n",
    "- 'smlgntCoClcd': 강소기업 카테고리"
   ]
  },
  {
   "cell_type": "code",
   "execution_count": null,
   "metadata": {},
   "outputs": [],
   "source": [
    "My_API_Key = unquote('#########')  # 본인 인증키\n",
    "\n",
    "# 추출 컬럼명\n",
    "data_idx = ['busiNo', 'compNm', 'regionNm', 'indTypeNm', 'smlgntCoClcd']\n",
    "value_idx = [[] for _ in range(len(data_idx))]\n",
    "data = dict(zip(data_idx, value_idx)) # 각 컬럼 초기화"
   ]
  },
  {
   "cell_type": "code",
   "execution_count": null,
   "metadata": {},
   "outputs": [],
   "source": [
    "# 1페이지 ~ 1000페이지 탐색\n",
    "for page in range(1, 1001):\n",
    "    # Service URL + 인증키\n",
    "    xmlUrl = f'''http://openapi.work.go.kr/opi/opi/opia/corpInfoReportApi.do?authKey={My_API_Key}\\\n",
    "            &returnType=XML&callTp=L&startPage={page}&display=100'''\n",
    "\n",
    "    # Get > parsing\n",
    "    response = requests.get(xmlUrl).text.encode('utf-8')\n",
    "    xmlobj = bs4.BeautifulSoup(response, 'lxml-xml')\n",
    "    wanted = xmlobj.find_all(\"company\")\n",
    "    if wanted == []:\n",
    "        break\n",
    "    \n",
    "    # 강소기업 정보 parsing\n",
    "    for vals in wanted:\n",
    "        data[\"busiNo\"].append(vals.find('busiNo').text) # 사업자등록번호\n",
    "        data[\"compNm\"].append(vals.find('compNm').text) # 사업자명\n",
    "\n",
    "        try:\n",
    "            data[\"regionNm\"].append(vals.find('regionNm').text) # 지역명\n",
    "        except AttributeError:\n",
    "            data[\"regionNm\"].append(np.nan)\n",
    "            #print(\"regionNm >> \", vals)\n",
    "\n",
    "        try:\n",
    "            data[\"smlgntCoClcd\"].append(vals.find('smlgntCoClcd').text) # 강소기업 카테고리\n",
    "        except AttributeError:\n",
    "            data[\"smlgntCoClcd\"].append(np.nan)\n",
    "            #print(\"smlgntCoClcd >> \", vals)\n",
    "\n",
    "        data[\"indTypeNm\"].append(vals.find('indTypeNm').text) # 업종명"
   ]
  },
  {
   "cell_type": "code",
   "execution_count": null,
   "metadata": {},
   "outputs": [],
   "source": [
    "# 강소기업 정보\n",
    "data = pd.DataFrame(data)"
   ]
  },
  {
   "cell_type": "code",
   "execution_count": null,
   "metadata": {},
   "outputs": [],
   "source": [
    "# 강소기업 탐방기 parsing\n",
    "QA_data = {'busiNo':[], 'compNm':[], 'Q':[], 'A':[]}\n",
    "for row in data.iterrows():\n",
    "    busiNO = row[1]['busiNo']\n",
    "    comp = row[1]['compNm']\n",
    "\n",
    "    xmlUrl = f'''http://openapi.work.go.kr/opi/opi/opia/corpInfoReportApi.do?authKey={My_API_Key}\\\n",
    "                &returnType=XML&callTp=D&busiNo={busiNO}'''\n",
    "\n",
    "    response = requests.get(xmlUrl).text.encode('utf-8')\n",
    "    xmlobj = bs4.BeautifulSoup(response, 'lxml-xml')\n",
    "    QAs = xmlobj.find(\"compDtl\").find_all('coInqReprt') # Q&A 정보\n",
    "    for qa in QAs:\n",
    "        QA_data['busiNo'] += [busiNO] # 사업자등록번호\n",
    "        QA_data['compNm'] += [comp] # 기업명\n",
    "        QA_data['Q'] += [qa.find(\"contSubtitle\").text] # 질문\n",
    "        QA_data['A'] += [qa.find(\"contCont\").text] # 답변"
   ]
  },
  {
   "cell_type": "code",
   "execution_count": 3,
   "metadata": {},
   "outputs": [
    {
     "data": {
      "text/html": [
       "<div>\n",
       "<style scoped>\n",
       "    .dataframe tbody tr th:only-of-type {\n",
       "        vertical-align: middle;\n",
       "    }\n",
       "\n",
       "    .dataframe tbody tr th {\n",
       "        vertical-align: top;\n",
       "    }\n",
       "\n",
       "    .dataframe thead th {\n",
       "        text-align: right;\n",
       "    }\n",
       "</style>\n",
       "<table border=\"1\" class=\"dataframe\">\n",
       "  <thead>\n",
       "    <tr style=\"text-align: right;\">\n",
       "      <th></th>\n",
       "      <th>busiNo</th>\n",
       "      <th>compNm</th>\n",
       "      <th>Q</th>\n",
       "      <th>A</th>\n",
       "    </tr>\n",
       "  </thead>\n",
       "  <tbody>\n",
       "    <tr>\n",
       "      <th>0</th>\n",
       "      <td>3058140342</td>\n",
       "      <td>(주)예람</td>\n",
       "      <td>회사의 주력 분야 등 간단한 회사 소개를 해주세요.</td>\n",
       "      <td>1999년도에 창립하여 19년째 운영중인 ㈜예람의 주력 사업 분야 중 첫 번째는 입...</td>\n",
       "    </tr>\n",
       "    <tr>\n",
       "      <th>1</th>\n",
       "      <td>3058140342</td>\n",
       "      <td>(주)예람</td>\n",
       "      <td>회사의 장기적인 목표나 경영 철학이 있으신가요?</td>\n",
       "      <td>경영 철학이자 회사의 4대 이념으로 가치, 인정, 나눔, 신용이 있습니다. \\r\\n...</td>\n",
       "    </tr>\n",
       "  </tbody>\n",
       "</table>\n",
       "</div>"
      ],
      "text/plain": [
       "       busiNo compNm                             Q  \\\n",
       "0  3058140342  (주)예람  회사의 주력 분야 등 간단한 회사 소개를 해주세요.   \n",
       "1  3058140342  (주)예람    회사의 장기적인 목표나 경영 철학이 있으신가요?   \n",
       "\n",
       "                                                   A  \n",
       "0  1999년도에 창립하여 19년째 운영중인 ㈜예람의 주력 사업 분야 중 첫 번째는 입...  \n",
       "1  경영 철학이자 회사의 4대 이념으로 가치, 인정, 나눔, 신용이 있습니다. \\r\\n...  "
      ]
     },
     "execution_count": 3,
     "metadata": {},
     "output_type": "execute_result"
    }
   ],
   "source": [
    "QA_data = pd.DataFrame(QA_data)\n",
    "QA_data.head(2)"
   ]
  },
  {
   "cell_type": "code",
   "execution_count": null,
   "metadata": {},
   "outputs": [],
   "source": [
    "QA_data.to_csv(\"../data/탐방기업_QA.csv\", index=False, encoding = 'UTF-8-sig')\n",
    "QA_data.to_excel(\"../data/탐방기업_QA.xlsx\", index=False, encoding = 'UTF-8-sig')"
   ]
  },
  {
   "cell_type": "markdown",
   "metadata": {},
   "source": [
    "### Q&A 단어/어절 분리"
   ]
  },
  {
   "cell_type": "code",
   "execution_count": 4,
   "metadata": {},
   "outputs": [
    {
     "data": {
      "text/html": [
       "<div>\n",
       "<style scoped>\n",
       "    .dataframe tbody tr th:only-of-type {\n",
       "        vertical-align: middle;\n",
       "    }\n",
       "\n",
       "    .dataframe tbody tr th {\n",
       "        vertical-align: top;\n",
       "    }\n",
       "\n",
       "    .dataframe thead th {\n",
       "        text-align: right;\n",
       "    }\n",
       "</style>\n",
       "<table border=\"1\" class=\"dataframe\">\n",
       "  <thead>\n",
       "    <tr style=\"text-align: right;\">\n",
       "      <th></th>\n",
       "      <th>busiNo</th>\n",
       "      <th>compNm</th>\n",
       "      <th>Q</th>\n",
       "      <th>A</th>\n",
       "    </tr>\n",
       "  </thead>\n",
       "  <tbody>\n",
       "    <tr>\n",
       "      <th>0</th>\n",
       "      <td>3058140342</td>\n",
       "      <td>(주)예람</td>\n",
       "      <td>회사의 주력 분야 등 간단한 회사 소개를 해주세요.</td>\n",
       "      <td>1999년도에 창립하여 19년째 운영중인 ㈜예람의 주력 사업 분야 중 첫 번째는 입...</td>\n",
       "    </tr>\n",
       "    <tr>\n",
       "      <th>1</th>\n",
       "      <td>3058140342</td>\n",
       "      <td>(주)예람</td>\n",
       "      <td>회사의 장기적인 목표나 경영 철학이 있으신가요?</td>\n",
       "      <td>경영 철학이자 회사의 4대 이념으로 가치, 인정, 나눔, 신용이 있습니다. \\r\\n...</td>\n",
       "    </tr>\n",
       "    <tr>\n",
       "      <th>2</th>\n",
       "      <td>3058140342</td>\n",
       "      <td>(주)예람</td>\n",
       "      <td>타사와 비교했을 때 귀사의 장점은 무엇인가요?</td>\n",
       "      <td>직원의 성장을 위해 전폭적인 지원을 합니다. 업무관련 역량을 위한 내/외부 교육지원...</td>\n",
       "    </tr>\n",
       "    <tr>\n",
       "      <th>3</th>\n",
       "      <td>3058140342</td>\n",
       "      <td>(주)예람</td>\n",
       "      <td>회사의 채용절차 및 선호하는 인재상은 어떻게 되나요?</td>\n",
       "      <td>주로 배움에 대한 열정, 올바른 인성을 갖춘 인재를 선호합니다. 채용절차는 1차 서...</td>\n",
       "    </tr>\n",
       "    <tr>\n",
       "      <th>4</th>\n",
       "      <td>3058140342</td>\n",
       "      <td>(주)예람</td>\n",
       "      <td>신입 평균 급여수준 및 인사 제도 현황에 대해 알 수 있나요?</td>\n",
       "      <td>신입 평균 급여는 올해 2,200만원입니다. 연봉 외에는 부서 성과에 따른 성과급 ...</td>\n",
       "    </tr>\n",
       "  </tbody>\n",
       "</table>\n",
       "</div>"
      ],
      "text/plain": [
       "       busiNo compNm                                   Q  \\\n",
       "0  3058140342  (주)예람        회사의 주력 분야 등 간단한 회사 소개를 해주세요.   \n",
       "1  3058140342  (주)예람          회사의 장기적인 목표나 경영 철학이 있으신가요?   \n",
       "2  3058140342  (주)예람           타사와 비교했을 때 귀사의 장점은 무엇인가요?   \n",
       "3  3058140342  (주)예람       회사의 채용절차 및 선호하는 인재상은 어떻게 되나요?   \n",
       "4  3058140342  (주)예람  신입 평균 급여수준 및 인사 제도 현황에 대해 알 수 있나요?   \n",
       "\n",
       "                                                   A  \n",
       "0  1999년도에 창립하여 19년째 운영중인 ㈜예람의 주력 사업 분야 중 첫 번째는 입...  \n",
       "1  경영 철학이자 회사의 4대 이념으로 가치, 인정, 나눔, 신용이 있습니다. \\r\\n...  \n",
       "2  직원의 성장을 위해 전폭적인 지원을 합니다. 업무관련 역량을 위한 내/외부 교육지원...  \n",
       "3  주로 배움에 대한 열정, 올바른 인성을 갖춘 인재를 선호합니다. 채용절차는 1차 서...  \n",
       "4  신입 평균 급여는 올해 2,200만원입니다. 연봉 외에는 부서 성과에 따른 성과급 ...  "
      ]
     },
     "execution_count": 4,
     "metadata": {},
     "output_type": "execute_result"
    }
   ],
   "source": [
    "# engine='python': csv 파일 한글명 읽기 위해\n",
    "QA = pd.read_csv(\"../data/탐방기업_QA.csv\", engine='python', encoding = 'utf-8-sig')\n",
    "QA.head()"
   ]
  },
  {
   "cell_type": "code",
   "execution_count": null,
   "metadata": {},
   "outputs": [],
   "source": [
    "# 답변에 대한 단어/어절 분리\n",
    "okt = Okt()\n",
    "for row in QA.iterrows():\n",
    "    try:\n",
    "        nouns = okt.nouns(row[1]['A'])\n",
    "        QA.at[row[0], 'nouns'] = ','.join(nouns)\n",
    "        QA.at[row[0], 'phrases'] = ','.join(okt.phrases(row[1]['A']))\n",
    "    except AssertionError:\n",
    "        QA.at[row[0], 'nouns'] = np.nan\n",
    "        QA.at[row[0], 'phrases'] = np.nan\n",
    "\n",
    "QA = QA.dropna().reset_index(drop='index')\n",
    "QA.to_csv(\"QA_tokenData.csv\", index=False, encoding = 'utf-8-sig')"
   ]
  },
  {
   "cell_type": "code",
   "execution_count": null,
   "metadata": {},
   "outputs": [],
   "source": []
  },
  {
   "cell_type": "markdown",
   "metadata": {},
   "source": [
    "### Q&A 텍스트 요약"
   ]
  },
  {
   "cell_type": "code",
   "execution_count": null,
   "metadata": {},
   "outputs": [],
   "source": [
    "okt = Okt()\n",
    "\n",
    "# 데이터 전처리\n",
    "def preprocessing(review):\n",
    "    total_review = ''\n",
    "\n",
    "    #인풋리뷰\n",
    "    for row in review.iterrows():\n",
    "        r = row[1]['A']\n",
    "        #하나의 리뷰에서 문장 단위로 자르기\n",
    "        sentence = r\n",
    "        sentence = re.sub('\\s','',sentence)\n",
    "        # sentence = re.sub('\\u200b','',sentence)\n",
    "        # sentence = re.sub('\\xa0','',sentence)\n",
    "        sentence = re.sub('([a-zA-Z])','',sentence)\n",
    "        sentence = re.sub('[ㄱ-ㅎㅏ-ㅣ]+','',sentence)\n",
    "        sentence = re.sub('[-=+,#/\\?:^$.@*\\\"※~&%ㆍ!』\\\\‘|\\(\\)\\[\\]\\<\\>`\\'…》]','',sentence)\n",
    "\n",
    "        if len(sentence) == 0:\n",
    "            continue\n",
    "        sentence = okt.phrases(sentence)\n",
    "        \n",
    "        word = []\n",
    "        for i in sentence:\n",
    "            if i == '디자':\n",
    "                i = '디자인'\n",
    "            elif i == '시스':\n",
    "                i = '시스템'\n",
    "            elif i == '네트':\n",
    "                i = '네트워크'\n",
    "            word.append(i)\n",
    "        word = ' '.join(word)\n",
    "        word += '. '\n",
    "        total_review += word\n",
    "    return total_review"
   ]
  },
  {
   "cell_type": "code",
   "execution_count": null,
   "metadata": {},
   "outputs": [],
   "source": [
    "QA2 = QA.iloc[np.where(QA['Q'].str.contains('복리|복지'))] # 복리/복지 관련 질문에 대한 답변 모음"
   ]
  },
  {
   "cell_type": "code",
   "execution_count": null,
   "metadata": {},
   "outputs": [],
   "source": [
    "token_data = {'busiNo':[], 'company':[], 'tag':[]}\n",
    "\n",
    "# 키워드 추출\n",
    "for b_idx, comp_qa in list(QA2.groupby(\"busiNo\")):\n",
    "    print(b_idx)\n",
    "    st = ''\n",
    "    name = comp_qa['compNm'].iloc[0]\n",
    "    texts = preprocessing(comp_qa)\n",
    "    st += texts\n",
    "    texts = st.split('. ')\n",
    "\n",
    "    # 불용어\n",
    "    stopwords = {\"있습니다.\", \"또한\", '저희', '회사', '대한', '때문', '통해', \n",
    "                '경우', '위해', '각종', '직원의', '업무', '직원들', '당사', '충족',\n",
    "                '후생','황금','화성의','현지','현재','허가'}\n",
    "    try:\n",
    "        keywords, sents = summarize_with_sentences(\n",
    "                                               texts, \n",
    "                                               stopwords = stopwords,\n",
    "                                               num_keywords=100, \n",
    "                                               num_keysents=10\n",
    "                                               )\n",
    "    except ValueError:\n",
    "        keywords, sents = summarize_with_sentences(\n",
    "                                               texts*5, \n",
    "                                               stopwords = stopwords,\n",
    "                                               num_keywords=100, \n",
    "                                               num_keysents=10\n",
    "                                               )\n",
    "        \n",
    "    for word, r in sorted(keywords.items(), key=lambda x:x[1], reverse=True)[:7]:\n",
    "        print('#%s' % word)\n",
    "        token_data['busiNo'].append(b_idx)\n",
    "        token_data['company'].append(name)\n",
    "        token_data['tag'].append(word)\n",
    "\n",
    "    print()"
   ]
  },
  {
   "cell_type": "code",
   "execution_count": 5,
   "metadata": {},
   "outputs": [
    {
     "data": {
      "text/html": [
       "<div>\n",
       "<style scoped>\n",
       "    .dataframe tbody tr th:only-of-type {\n",
       "        vertical-align: middle;\n",
       "    }\n",
       "\n",
       "    .dataframe tbody tr th {\n",
       "        vertical-align: top;\n",
       "    }\n",
       "\n",
       "    .dataframe thead th {\n",
       "        text-align: right;\n",
       "    }\n",
       "</style>\n",
       "<table border=\"1\" class=\"dataframe\">\n",
       "  <thead>\n",
       "    <tr style=\"text-align: right;\">\n",
       "      <th></th>\n",
       "      <th>busiNo</th>\n",
       "      <th>company</th>\n",
       "      <th>tag</th>\n",
       "    </tr>\n",
       "  </thead>\n",
       "  <tbody>\n",
       "    <tr>\n",
       "      <th>0</th>\n",
       "      <td>1018183356</td>\n",
       "      <td>(주)샤뽀</td>\n",
       "      <td>퇴근</td>\n",
       "    </tr>\n",
       "    <tr>\n",
       "      <th>1</th>\n",
       "      <td>1018183356</td>\n",
       "      <td>(주)샤뽀</td>\n",
       "      <td>정시</td>\n",
       "    </tr>\n",
       "  </tbody>\n",
       "</table>\n",
       "</div>"
      ],
      "text/plain": [
       "       busiNo company tag\n",
       "0  1018183356   (주)샤뽀  퇴근\n",
       "1  1018183356   (주)샤뽀  정시"
      ]
     },
     "execution_count": 5,
     "metadata": {},
     "output_type": "execute_result"
    }
   ],
   "source": [
    "token_df = pd.DataFrame(token_data)\n",
    "token_df.head(2)"
   ]
  },
  {
   "cell_type": "code",
   "execution_count": null,
   "metadata": {},
   "outputs": [],
   "source": [
    "token_df.to_csv(\"../data/QA_tag4_3.csv\", index=False, encoding = 'utf-8-sig')"
   ]
  },
  {
   "cell_type": "markdown",
   "metadata": {},
   "source": [
    "#### 복지 단어 개수 count"
   ]
  },
  {
   "cell_type": "code",
   "execution_count": 6,
   "metadata": {},
   "outputs": [
    {
     "data": {
      "text/html": [
       "<div>\n",
       "<style scoped>\n",
       "    .dataframe tbody tr th:only-of-type {\n",
       "        vertical-align: middle;\n",
       "    }\n",
       "\n",
       "    .dataframe tbody tr th {\n",
       "        vertical-align: top;\n",
       "    }\n",
       "\n",
       "    .dataframe thead th {\n",
       "        text-align: right;\n",
       "    }\n",
       "</style>\n",
       "<table border=\"1\" class=\"dataframe\">\n",
       "  <thead>\n",
       "    <tr style=\"text-align: right;\">\n",
       "      <th></th>\n",
       "      <th>busiNo</th>\n",
       "      <th>company</th>\n",
       "      <th>tag</th>\n",
       "    </tr>\n",
       "  </thead>\n",
       "  <tbody>\n",
       "    <tr>\n",
       "      <th>0</th>\n",
       "      <td>1018183356</td>\n",
       "      <td>(주)샤뽀</td>\n",
       "      <td>퇴근</td>\n",
       "    </tr>\n",
       "    <tr>\n",
       "      <th>1</th>\n",
       "      <td>1018183356</td>\n",
       "      <td>(주)샤뽀</td>\n",
       "      <td>정시</td>\n",
       "    </tr>\n",
       "    <tr>\n",
       "      <th>2</th>\n",
       "      <td>1018183356</td>\n",
       "      <td>(주)샤뽀</td>\n",
       "      <td>기준</td>\n",
       "    </tr>\n",
       "    <tr>\n",
       "      <th>3</th>\n",
       "      <td>1018183356</td>\n",
       "      <td>(주)샤뽀</td>\n",
       "      <td>준수</td>\n",
       "    </tr>\n",
       "    <tr>\n",
       "      <th>4</th>\n",
       "      <td>1018183356</td>\n",
       "      <td>(주)샤뽀</td>\n",
       "      <td>상황</td>\n",
       "    </tr>\n",
       "  </tbody>\n",
       "</table>\n",
       "</div>"
      ],
      "text/plain": [
       "       busiNo company tag\n",
       "0  1018183356   (주)샤뽀  퇴근\n",
       "1  1018183356   (주)샤뽀  정시\n",
       "2  1018183356   (주)샤뽀  기준\n",
       "3  1018183356   (주)샤뽀  준수\n",
       "4  1018183356   (주)샤뽀  상황"
      ]
     },
     "execution_count": 6,
     "metadata": {},
     "output_type": "execute_result"
    }
   ],
   "source": [
    "data = pd.read_csv(\"../data/QA_tag4_3.csv\")\n",
    "data.head(5)"
   ]
  },
  {
   "cell_type": "code",
   "execution_count": 7,
   "metadata": {},
   "outputs": [
    {
     "data": {
      "text/html": [
       "<div>\n",
       "<style scoped>\n",
       "    .dataframe tbody tr th:only-of-type {\n",
       "        vertical-align: middle;\n",
       "    }\n",
       "\n",
       "    .dataframe tbody tr th {\n",
       "        vertical-align: top;\n",
       "    }\n",
       "\n",
       "    .dataframe thead th {\n",
       "        text-align: right;\n",
       "    }\n",
       "</style>\n",
       "<table border=\"1\" class=\"dataframe\">\n",
       "  <thead>\n",
       "    <tr style=\"text-align: right;\">\n",
       "      <th></th>\n",
       "      <th>company</th>\n",
       "      <th>num</th>\n",
       "    </tr>\n",
       "  </thead>\n",
       "  <tbody>\n",
       "    <tr>\n",
       "      <th>0</th>\n",
       "      <td>(주)성창</td>\n",
       "      <td>10</td>\n",
       "    </tr>\n",
       "    <tr>\n",
       "      <th>1</th>\n",
       "      <td>(주)엠알티</td>\n",
       "      <td>7</td>\n",
       "    </tr>\n",
       "    <tr>\n",
       "      <th>2</th>\n",
       "      <td>(주)엠에코</td>\n",
       "      <td>7</td>\n",
       "    </tr>\n",
       "    <tr>\n",
       "      <th>3</th>\n",
       "      <td>(주)엠코전자</td>\n",
       "      <td>7</td>\n",
       "    </tr>\n",
       "    <tr>\n",
       "      <th>4</th>\n",
       "      <td>(주)연한훼미리</td>\n",
       "      <td>7</td>\n",
       "    </tr>\n",
       "  </tbody>\n",
       "</table>\n",
       "</div>"
      ],
      "text/plain": [
       "    company  num\n",
       "0     (주)성창   10\n",
       "1    (주)엠알티    7\n",
       "2    (주)엠에코    7\n",
       "3   (주)엠코전자    7\n",
       "4  (주)연한훼미리    7"
      ]
     },
     "execution_count": 7,
     "metadata": {},
     "output_type": "execute_result"
    }
   ],
   "source": [
    "data1 = pd.DataFrame(data.value_counts(subset=['company']))\n",
    "data1 = data1.reset_index()\n",
    "data1.columns = ['company', 'num']\n",
    "data1.head()"
   ]
  },
  {
   "cell_type": "code",
   "execution_count": 8,
   "metadata": {},
   "outputs": [],
   "source": [
    "data1.to_csv(\"../data/복지_기업별단어수.csv\", index=False, encoding=\"cp949\")"
   ]
  },
  {
   "cell_type": "markdown",
   "metadata": {},
   "source": [
    "#### 뉴스 크롤링 및 뉴스 기사 개수 count"
   ]
  },
  {
   "cell_type": "code",
   "execution_count": null,
   "metadata": {},
   "outputs": [],
   "source": [
    "from bs4 import BeautifulSoup"
   ]
  },
  {
   "cell_type": "code",
   "execution_count": null,
   "metadata": {},
   "outputs": [],
   "source": [
    "data_idx = ['keyword', 'title']\n",
    "value_idx = [[] for _ in range(len(data_idx))]\n",
    "data = dict(zip(data_idx, value_idx)) # 각 컬럼 초기화"
   ]
  },
  {
   "cell_type": "code",
   "execution_count": 13,
   "metadata": {},
   "outputs": [
    {
     "data": {
      "text/html": [
       "<div>\n",
       "<style scoped>\n",
       "    .dataframe tbody tr th:only-of-type {\n",
       "        vertical-align: middle;\n",
       "    }\n",
       "\n",
       "    .dataframe tbody tr th {\n",
       "        vertical-align: top;\n",
       "    }\n",
       "\n",
       "    .dataframe thead th {\n",
       "        text-align: right;\n",
       "    }\n",
       "</style>\n",
       "<table border=\"1\" class=\"dataframe\">\n",
       "  <thead>\n",
       "    <tr style=\"text-align: right;\">\n",
       "      <th></th>\n",
       "      <th>compNm</th>\n",
       "    </tr>\n",
       "  </thead>\n",
       "  <tbody>\n",
       "    <tr>\n",
       "      <th>0</th>\n",
       "      <td>(주)예람</td>\n",
       "    </tr>\n",
       "    <tr>\n",
       "      <th>1</th>\n",
       "      <td>(주)티아이</td>\n",
       "    </tr>\n",
       "    <tr>\n",
       "      <th>2</th>\n",
       "      <td>(주)에스에스알</td>\n",
       "    </tr>\n",
       "    <tr>\n",
       "      <th>3</th>\n",
       "      <td>(주)보템</td>\n",
       "    </tr>\n",
       "    <tr>\n",
       "      <th>4</th>\n",
       "      <td>(주)제이오텍</td>\n",
       "    </tr>\n",
       "  </tbody>\n",
       "</table>\n",
       "</div>"
      ],
      "text/plain": [
       "     compNm\n",
       "0     (주)예람\n",
       "1    (주)티아이\n",
       "2  (주)에스에스알\n",
       "3     (주)보템\n",
       "4   (주)제이오텍"
      ]
     },
     "execution_count": 13,
     "metadata": {},
     "output_type": "execute_result"
    }
   ],
   "source": [
    "# 기업명 가져오기\n",
    "name = pd.read_excel(\"../data/탐방기업_QA.xlsx\")\n",
    "names = name[['compNm']].drop_duplicates(ignore_index = True)\n",
    "names.head()"
   ]
  },
  {
   "cell_type": "code",
   "execution_count": null,
   "metadata": {},
   "outputs": [],
   "source": [
    "# 기업 별 뉴스 기사 카운팅\n",
    "for row in names.iterrows():\n",
    "    keyword = row[1]['compNm']\n",
    "    lastPage = 10\n",
    "    pageNum = 1\n",
    "    for i in range(1, int(lastPage) * 10, 10):\n",
    "        print(pageNum)\n",
    "        response = requests.get(f\"https://search.naver.com/search.naver?where=news&sm=tab_jum&query={keyword}&start={i}\")\n",
    "        html = response.text\n",
    "\n",
    "        soup = BeautifulSoup(html, 'html.parser')\n",
    "        links = soup.select(\".news_tit\") #결과가 리스트로 나옴\n",
    "        #print(links)\n",
    "\n",
    "        for link in links:\n",
    "            title = link.text # 태그 안에 텍스트요소를 가져온다.\n",
    "            url = link.attrs['href'] # href의 속성값을 가져온다.\n",
    "            # print(title)\n",
    "            # print(url)\n",
    "            data['title'].append(title)\n",
    "            # data['url'].append(url)\n",
    "            data['keyword'].append(keyword)\n",
    "\n",
    "\n",
    "        pageNum = pageNum + 1"
   ]
  },
  {
   "cell_type": "code",
   "execution_count": null,
   "metadata": {},
   "outputs": [],
   "source": [
    "data = pd.DataFrame(data)\n",
    "data.to_csv(\"../data/뉴스검색수.csv\", index=False, encoding = 'UTF-8-sig')"
   ]
  },
  {
   "cell_type": "code",
   "execution_count": null,
   "metadata": {},
   "outputs": [],
   "source": [
    "data1 = pd.DataFrame(data.value_counts(subset=['keyword']))\n",
    "data1 = data1.reset_index()\n",
    "data1.columns = ['company', 'num']\n",
    "data1.head()"
   ]
  },
  {
   "cell_type": "code",
   "execution_count": null,
   "metadata": {},
   "outputs": [],
   "source": [
    "data1.to_csv(\"../data/뉴스_기업별단어수.csv\", index=False, encoding=\"cp949\")"
   ]
  },
  {
   "cell_type": "code",
   "execution_count": null,
   "metadata": {},
   "outputs": [],
   "source": []
  },
  {
   "cell_type": "markdown",
   "metadata": {},
   "source": [
    "#### 국민연금데이터와 기업탐방 데이터 병합"
   ]
  },
  {
   "cell_type": "code",
   "execution_count": 14,
   "metadata": {},
   "outputs": [
    {
     "data": {
      "text/html": [
       "<div>\n",
       "<style scoped>\n",
       "    .dataframe tbody tr th:only-of-type {\n",
       "        vertical-align: middle;\n",
       "    }\n",
       "\n",
       "    .dataframe tbody tr th {\n",
       "        vertical-align: top;\n",
       "    }\n",
       "\n",
       "    .dataframe thead th {\n",
       "        text-align: right;\n",
       "    }\n",
       "</style>\n",
       "<table border=\"1\" class=\"dataframe\">\n",
       "  <thead>\n",
       "    <tr style=\"text-align: right;\">\n",
       "      <th></th>\n",
       "      <th>busiNo</th>\n",
       "      <th>compNm</th>\n",
       "      <th>Q</th>\n",
       "      <th>A</th>\n",
       "      <th>name</th>\n",
       "    </tr>\n",
       "  </thead>\n",
       "  <tbody>\n",
       "    <tr>\n",
       "      <th>0</th>\n",
       "      <td>3058140342</td>\n",
       "      <td>(주)예람</td>\n",
       "      <td>회사의 주력 분야 등 간단한 회사 소개를 해주세요.</td>\n",
       "      <td>1999년도에 창립하여 19년째 운영중인 ㈜예람의 주력 사업 분야 중 첫 번째는 입...</td>\n",
       "      <td>예람</td>\n",
       "    </tr>\n",
       "    <tr>\n",
       "      <th>1</th>\n",
       "      <td>3058140342</td>\n",
       "      <td>(주)예람</td>\n",
       "      <td>회사의 장기적인 목표나 경영 철학이 있으신가요?</td>\n",
       "      <td>경영 철학이자 회사의 4대 이념으로 가치, 인정, 나눔, 신용이 있습니다. \\r\\n...</td>\n",
       "      <td>예람</td>\n",
       "    </tr>\n",
       "  </tbody>\n",
       "</table>\n",
       "</div>"
      ],
      "text/plain": [
       "       busiNo compNm                             Q  \\\n",
       "0  3058140342  (주)예람  회사의 주력 분야 등 간단한 회사 소개를 해주세요.   \n",
       "1  3058140342  (주)예람    회사의 장기적인 목표나 경영 철학이 있으신가요?   \n",
       "\n",
       "                                                   A name  \n",
       "0  1999년도에 창립하여 19년째 운영중인 ㈜예람의 주력 사업 분야 중 첫 번째는 입...   예람  \n",
       "1  경영 철학이자 회사의 4대 이념으로 가치, 인정, 나눔, 신용이 있습니다. \\r\\n...   예람  "
      ]
     },
     "execution_count": 14,
     "metadata": {},
     "output_type": "execute_result"
    }
   ],
   "source": [
    "# 기업탐방 데이터\n",
    "data1 = pd.read_csv(\"../data/탐방기업_QA.csv\")\n",
    "data1['name'] = data1['compNm']\n",
    "data1['name'].replace(\"주식회사\", '', regex=True, inplace=True)\n",
    "data1['name'].replace(\"\\(주\\)\", '', regex=True, inplace=True)\n",
    "data1['name'].replace(\" \", '', regex=True, inplace=True)\n",
    "data1.head(2)"
   ]
  },
  {
   "cell_type": "code",
   "execution_count": 15,
   "metadata": {},
   "outputs": [],
   "source": [
    "name = data1[['name']].drop_duplicates()"
   ]
  },
  {
   "cell_type": "code",
   "execution_count": null,
   "metadata": {},
   "outputs": [],
   "source": [
    "# 국민연금 데이터\n",
    "data = pd.read_csv(\"../data/국민연금공단_국민연금 가입 사업장 내역_20220121.csv\")\n",
    "\n",
    "data['퇴직률'] = round((data['상실가입자수']/data['가입자수'])*100, 2)\n",
    "data['평균급여'] = round((data['당월고지금액']/(data['가입자수']*0.09)), 2) \n",
    "\n",
    "# 강소기업 리스트와 merge하기 위해 사업장명 통일\n",
    "data['회사이름'] = data['사업장명']\n",
    "data['회사이름'].replace(\"주식회사\", '', regex=True, inplace=True)\n",
    "data['회사이름'].replace(\"\\(주\\)\", '', regex=True, inplace=True)\n",
    "data['회사이름'].replace(\" \", '', regex=True, inplace=True)"
   ]
  },
  {
   "cell_type": "code",
   "execution_count": 17,
   "metadata": {},
   "outputs": [
    {
     "data": {
      "text/html": [
       "<div>\n",
       "<style scoped>\n",
       "    .dataframe tbody tr th:only-of-type {\n",
       "        vertical-align: middle;\n",
       "    }\n",
       "\n",
       "    .dataframe tbody tr th {\n",
       "        vertical-align: top;\n",
       "    }\n",
       "\n",
       "    .dataframe thead th {\n",
       "        text-align: right;\n",
       "    }\n",
       "</style>\n",
       "<table border=\"1\" class=\"dataframe\">\n",
       "  <thead>\n",
       "    <tr style=\"text-align: right;\">\n",
       "      <th></th>\n",
       "      <th>사업장명</th>\n",
       "      <th>사업자등록번호</th>\n",
       "      <th>사업장업종코드명</th>\n",
       "      <th>가입자수</th>\n",
       "      <th>상실가입자수</th>\n",
       "      <th>퇴직률</th>\n",
       "      <th>회사이름</th>\n",
       "      <th>평균급여</th>\n",
       "    </tr>\n",
       "  </thead>\n",
       "  <tbody>\n",
       "    <tr>\n",
       "      <th>0</th>\n",
       "      <td>대신정보통신(주)</td>\n",
       "      <td>133850</td>\n",
       "      <td>응용 소프트웨어 개발 및 공급업</td>\n",
       "      <td>551</td>\n",
       "      <td>44</td>\n",
       "      <td>7.99</td>\n",
       "      <td>대신정보통신</td>\n",
       "      <td>3534767.09</td>\n",
       "    </tr>\n",
       "  </tbody>\n",
       "</table>\n",
       "</div>"
      ],
      "text/plain": [
       "        사업장명  사업자등록번호           사업장업종코드명  가입자수  상실가입자수   퇴직률    회사이름  \\\n",
       "0  대신정보통신(주)   133850  응용 소프트웨어 개발 및 공급업   551      44  7.99  대신정보통신   \n",
       "\n",
       "         평균급여  \n",
       "0  3534767.09  "
      ]
     },
     "execution_count": 17,
     "metadata": {},
     "output_type": "execute_result"
    }
   ],
   "source": [
    "data2 = data[['사업장명', '사업자등록번호', '사업장업종코드명', \n",
    "            '가입자수', '상실가입자수', '퇴직률', '회사이름', '평균급여']]\n",
    "data2.head(1)"
   ]
  },
  {
   "cell_type": "code",
   "execution_count": 18,
   "metadata": {},
   "outputs": [
    {
     "data": {
      "text/html": [
       "<div>\n",
       "<style scoped>\n",
       "    .dataframe tbody tr th:only-of-type {\n",
       "        vertical-align: middle;\n",
       "    }\n",
       "\n",
       "    .dataframe tbody tr th {\n",
       "        vertical-align: top;\n",
       "    }\n",
       "\n",
       "    .dataframe thead th {\n",
       "        text-align: right;\n",
       "    }\n",
       "</style>\n",
       "<table border=\"1\" class=\"dataframe\">\n",
       "  <thead>\n",
       "    <tr style=\"text-align: right;\">\n",
       "      <th></th>\n",
       "      <th>사업장명</th>\n",
       "      <th>사업자등록번호</th>\n",
       "      <th>사업장업종코드명</th>\n",
       "      <th>가입자수</th>\n",
       "      <th>상실가입자수</th>\n",
       "      <th>퇴직률</th>\n",
       "      <th>평균급여</th>\n",
       "    </tr>\n",
       "  </thead>\n",
       "  <tbody>\n",
       "    <tr>\n",
       "      <th>0</th>\n",
       "      <td>(주)예람</td>\n",
       "      <td>305814</td>\n",
       "      <td>기타 정보 기술 및 컴퓨터 운영 관련 서비스업</td>\n",
       "      <td>63</td>\n",
       "      <td>0</td>\n",
       "      <td>0.0</td>\n",
       "      <td>2673079.37</td>\n",
       "    </tr>\n",
       "    <tr>\n",
       "      <th>1</th>\n",
       "      <td>(주)예람</td>\n",
       "      <td>301816</td>\n",
       "      <td>도배  실내 장식 및 내장 목공사업</td>\n",
       "      <td>3</td>\n",
       "      <td>0</td>\n",
       "      <td>0.0</td>\n",
       "      <td>2360296.30</td>\n",
       "    </tr>\n",
       "  </tbody>\n",
       "</table>\n",
       "</div>"
      ],
      "text/plain": [
       "    사업장명  사업자등록번호                   사업장업종코드명  가입자수  상실가입자수  퇴직률        평균급여\n",
       "0  (주)예람   305814  기타 정보 기술 및 컴퓨터 운영 관련 서비스업    63       0  0.0  2673079.37\n",
       "1  (주)예람   301816        도배  실내 장식 및 내장 목공사업     3       0  0.0  2360296.30"
      ]
     },
     "execution_count": 18,
     "metadata": {},
     "output_type": "execute_result"
    }
   ],
   "source": [
    "# 기업탐방기와 국민연금 데이터를 회사이름으로 겹치는 기업만 병합\n",
    "df_LEFT_JOIN = pd.merge(name, data2, left_on='name', right_on='회사이름', how='inner')\n",
    "df_LEFT_JOIN.head(1)\n",
    "df_LEFT_JOIN = df_LEFT_JOIN[df_LEFT_JOIN['사업장명'] != ' ']\n",
    "tmp = df_LEFT_JOIN[['사업장명', '사업자등록번호', '사업장업종코드명', '가입자수', '상실가입자수', '퇴직률', '평균급여']]\n",
    "tmp.head(2)"
   ]
  },
  {
   "cell_type": "code",
   "execution_count": null,
   "metadata": {},
   "outputs": [],
   "source": [
    "tmp.to_excel(\"../data/강소기업_급여및퇴직률.xlsx\", index=False)"
   ]
  },
  {
   "cell_type": "markdown",
   "metadata": {},
   "source": [
    "#### 최종 방사형 데이터 생성"
   ]
  },
  {
   "cell_type": "code",
   "execution_count": 20,
   "metadata": {},
   "outputs": [
    {
     "data": {
      "text/html": [
       "<div>\n",
       "<style scoped>\n",
       "    .dataframe tbody tr th:only-of-type {\n",
       "        vertical-align: middle;\n",
       "    }\n",
       "\n",
       "    .dataframe tbody tr th {\n",
       "        vertical-align: top;\n",
       "    }\n",
       "\n",
       "    .dataframe thead th {\n",
       "        text-align: right;\n",
       "    }\n",
       "</style>\n",
       "<table border=\"1\" class=\"dataframe\">\n",
       "  <thead>\n",
       "    <tr style=\"text-align: right;\">\n",
       "      <th></th>\n",
       "      <th>사업장명</th>\n",
       "      <th>복지</th>\n",
       "    </tr>\n",
       "  </thead>\n",
       "  <tbody>\n",
       "    <tr>\n",
       "      <th>0</th>\n",
       "      <td>(주)성창</td>\n",
       "      <td>10</td>\n",
       "    </tr>\n",
       "    <tr>\n",
       "      <th>1</th>\n",
       "      <td>(주)엠알티</td>\n",
       "      <td>7</td>\n",
       "    </tr>\n",
       "    <tr>\n",
       "      <th>2</th>\n",
       "      <td>(주)엠에코</td>\n",
       "      <td>7</td>\n",
       "    </tr>\n",
       "    <tr>\n",
       "      <th>3</th>\n",
       "      <td>(주)엠코전자</td>\n",
       "      <td>7</td>\n",
       "    </tr>\n",
       "    <tr>\n",
       "      <th>4</th>\n",
       "      <td>(주)연한훼미리</td>\n",
       "      <td>7</td>\n",
       "    </tr>\n",
       "  </tbody>\n",
       "</table>\n",
       "</div>"
      ],
      "text/plain": [
       "       사업장명  복지\n",
       "0     (주)성창  10\n",
       "1    (주)엠알티   7\n",
       "2    (주)엠에코   7\n",
       "3   (주)엠코전자   7\n",
       "4  (주)연한훼미리   7"
      ]
     },
     "execution_count": 20,
     "metadata": {},
     "output_type": "execute_result"
    }
   ],
   "source": [
    "data1 = pd.read_excel(\"../data/강소기업_급여및퇴직률.xlsx\")\n",
    "data2 = pd.read_csv(\"../data/복지_기업별단어수.csv\", encoding='cp949')\n",
    "data3 = pd.read_csv(\"../data/뉴스_기업별단어수.csv\", encoding='cp949')\n",
    "\n",
    "data2.columns = ['사업장명', '복지']\n",
    "data3.columns = ['사업장명', '뉴스']\n",
    "data2.head()"
   ]
  },
  {
   "cell_type": "code",
   "execution_count": 21,
   "metadata": {},
   "outputs": [],
   "source": [
    "# 사업장명 통일\n",
    "data1['회사이름'] = data1['사업장명']\n",
    "data1['회사이름'].replace(\"주식회사\", '', regex=True, inplace=True)\n",
    "data1['회사이름'].replace(\"\\(주\\)\", '', regex=True, inplace=True)\n",
    "data1['회사이름'].replace(\" \", '', regex=True, inplace=True)\n",
    "\n",
    "data2['회사이름'] = data2['사업장명']\n",
    "data2['회사이름'].replace(\"주식회사\", '', regex=True, inplace=True)\n",
    "data2['회사이름'].replace(\"\\(주\\)\", '', regex=True, inplace=True)\n",
    "data2['회사이름'].replace(\" \", '', regex=True, inplace=True)\n",
    "\n",
    "data3['회사이름'] = data3['사업장명']\n",
    "data3['회사이름'].replace(\"주식회사\", '', regex=True, inplace=True)\n",
    "data3['회사이름'].replace(\"\\(주\\)\", '', regex=True, inplace=True)\n",
    "data3['회사이름'].replace(\" \", '', regex=True, inplace=True)"
   ]
  },
  {
   "cell_type": "code",
   "execution_count": 22,
   "metadata": {},
   "outputs": [
    {
     "data": {
      "text/html": [
       "<div>\n",
       "<style scoped>\n",
       "    .dataframe tbody tr th:only-of-type {\n",
       "        vertical-align: middle;\n",
       "    }\n",
       "\n",
       "    .dataframe tbody tr th {\n",
       "        vertical-align: top;\n",
       "    }\n",
       "\n",
       "    .dataframe thead th {\n",
       "        text-align: right;\n",
       "    }\n",
       "</style>\n",
       "<table border=\"1\" class=\"dataframe\">\n",
       "  <thead>\n",
       "    <tr style=\"text-align: right;\">\n",
       "      <th></th>\n",
       "      <th>사업장명</th>\n",
       "      <th>사업자등록번호</th>\n",
       "      <th>사업장업종코드명</th>\n",
       "      <th>가입자수</th>\n",
       "      <th>상실가입자수</th>\n",
       "      <th>퇴직률</th>\n",
       "      <th>평균급여</th>\n",
       "      <th>복지</th>\n",
       "      <th>뉴스</th>\n",
       "    </tr>\n",
       "  </thead>\n",
       "  <tbody>\n",
       "    <tr>\n",
       "      <th>1039</th>\n",
       "      <td>주식회사케이엠테크</td>\n",
       "      <td>805810.0</td>\n",
       "      <td>기타 화학 물질 및 화학제품 도매업</td>\n",
       "      <td>3.0</td>\n",
       "      <td>0.0</td>\n",
       "      <td>0.00</td>\n",
       "      <td>3082962.96</td>\n",
       "      <td>1.0</td>\n",
       "      <td>1.0</td>\n",
       "    </tr>\n",
       "    <tr>\n",
       "      <th>1040</th>\n",
       "      <td>(주)케이엠테크</td>\n",
       "      <td>779860.0</td>\n",
       "      <td>그 외 기타 플라스틱 제품 제조업</td>\n",
       "      <td>5.0</td>\n",
       "      <td>0.0</td>\n",
       "      <td>0.00</td>\n",
       "      <td>2179777.78</td>\n",
       "      <td>1.0</td>\n",
       "      <td>1.0</td>\n",
       "    </tr>\n",
       "    <tr>\n",
       "      <th>1041</th>\n",
       "      <td>주식회사케이엠테크</td>\n",
       "      <td>286860.0</td>\n",
       "      <td>의료용품 도매업</td>\n",
       "      <td>6.0</td>\n",
       "      <td>0.0</td>\n",
       "      <td>0.00</td>\n",
       "      <td>2776296.30</td>\n",
       "      <td>1.0</td>\n",
       "      <td>1.0</td>\n",
       "    </tr>\n",
       "    <tr>\n",
       "      <th>1042</th>\n",
       "      <td>(주)미쓰윤</td>\n",
       "      <td>214884.0</td>\n",
       "      <td>광고 대행업</td>\n",
       "      <td>49.0</td>\n",
       "      <td>0.0</td>\n",
       "      <td>0.00</td>\n",
       "      <td>3028480.73</td>\n",
       "      <td>7.0</td>\n",
       "      <td>12.0</td>\n",
       "    </tr>\n",
       "    <tr>\n",
       "      <th>1043</th>\n",
       "      <td>유양기술(주)</td>\n",
       "      <td>125812.0</td>\n",
       "      <td>산업용 난방보일러 및 방열기 제조업</td>\n",
       "      <td>83.0</td>\n",
       "      <td>3.0</td>\n",
       "      <td>3.61</td>\n",
       "      <td>3854358.77</td>\n",
       "      <td>7.0</td>\n",
       "      <td>19.0</td>\n",
       "    </tr>\n",
       "  </tbody>\n",
       "</table>\n",
       "</div>"
      ],
      "text/plain": [
       "           사업장명   사업자등록번호             사업장업종코드명  가입자수  상실가입자수   퇴직률  \\\n",
       "1039  주식회사케이엠테크  805810.0  기타 화학 물질 및 화학제품 도매업   3.0     0.0  0.00   \n",
       "1040   (주)케이엠테크  779860.0   그 외 기타 플라스틱 제품 제조업   5.0     0.0  0.00   \n",
       "1041  주식회사케이엠테크  286860.0             의료용품 도매업   6.0     0.0  0.00   \n",
       "1042     (주)미쓰윤  214884.0               광고 대행업  49.0     0.0  0.00   \n",
       "1043    유양기술(주)  125812.0  산업용 난방보일러 및 방열기 제조업  83.0     3.0  3.61   \n",
       "\n",
       "            평균급여   복지    뉴스  \n",
       "1039  3082962.96  1.0   1.0  \n",
       "1040  2179777.78  1.0   1.0  \n",
       "1041  2776296.30  1.0   1.0  \n",
       "1042  3028480.73  7.0  12.0  \n",
       "1043  3854358.77  7.0  19.0  "
      ]
     },
     "execution_count": 22,
     "metadata": {},
     "output_type": "execute_result"
    }
   ],
   "source": [
    "# 데이터 세가지 병합\n",
    "merge_data = pd.merge(data1, data2[['복지', '회사이름']], left_on='회사이름', right_on='회사이름', how = 'outer')\n",
    "merge_data2 = pd.merge(merge_data, data3[['뉴스', '회사이름']], left_on='회사이름', right_on='회사이름', how = 'outer')\n",
    "merge_data2 = merge_data2.dropna(subset=['사업장명']).drop(['회사이름'], axis=1)\n",
    "merge_data2.tail()"
   ]
  },
  {
   "cell_type": "code",
   "execution_count": 24,
   "metadata": {},
   "outputs": [
    {
     "data": {
      "text/plain": [
       "사업장명         0\n",
       "사업자등록번호      0\n",
       "사업장업종코드명    18\n",
       "가입자수         0\n",
       "상실가입자수       0\n",
       "퇴직률          1\n",
       "평균급여         4\n",
       "복지          68\n",
       "뉴스          25\n",
       "dtype: int64"
      ]
     },
     "execution_count": 24,
     "metadata": {},
     "output_type": "execute_result"
    }
   ],
   "source": [
    "merge_data2.isna().sum()"
   ]
  },
  {
   "cell_type": "code",
   "execution_count": 25,
   "metadata": {},
   "outputs": [
    {
     "name": "stdout",
     "output_type": "stream",
     "text": [
      "0 0\n"
     ]
    }
   ],
   "source": [
    "# 복지 단어 개수가 카운트 되지 않은 기업 -> 0으로 초기화\n",
    "merge_data2['복지'] = merge_data2['복지'].apply(lambda x : 0 if str(x) == 'nan' else x)\n",
    "\n",
    "# 뉴스 단어 개수가 카운트 되지 않은 기업 -> 0으로 초기화\n",
    "merge_data2['뉴스'] = merge_data2['뉴스'].apply(lambda x : 0 if str(x) == 'nan' else x)\n",
    "\n",
    "print(merge_data2['복지'].isnull().sum(), merge_data2['뉴스'].isnull().sum())"
   ]
  },
  {
   "cell_type": "code",
   "execution_count": 26,
   "metadata": {},
   "outputs": [],
   "source": [
    "# 퇴직률이 낮을수록 높은 등급을 주기 위해 100에서 빼기 수행\n",
    "merge_data2['퇴직률'] = 100 - merge_data2['퇴직률']\n",
    "\n",
    "# 가입자가 없는 경우(분모가 0), 퇴직률 0으로 초기화\n",
    "merge_data2['퇴직률'] = merge_data2['퇴직률'].apply(lambda x : 0 if str(x) == '-inf' else x)\n",
    "merge_data2['퇴직률'] = merge_data2['퇴직률'].apply(lambda x : 0 if str(x) == 'inf' else x)\n",
    "merge_data2['퇴직률'] = merge_data2['퇴직률'].apply(lambda x : 0 if str(x) == 'nan' else x)\n",
    "\n",
    "merge_data2 = merge_data2.astype({\"퇴직률\":int})"
   ]
  },
  {
   "cell_type": "code",
   "execution_count": 27,
   "metadata": {},
   "outputs": [
    {
     "data": {
      "text/html": [
       "<div>\n",
       "<style scoped>\n",
       "    .dataframe tbody tr th:only-of-type {\n",
       "        vertical-align: middle;\n",
       "    }\n",
       "\n",
       "    .dataframe tbody tr th {\n",
       "        vertical-align: top;\n",
       "    }\n",
       "\n",
       "    .dataframe thead th {\n",
       "        text-align: right;\n",
       "    }\n",
       "</style>\n",
       "<table border=\"1\" class=\"dataframe\">\n",
       "  <thead>\n",
       "    <tr style=\"text-align: right;\">\n",
       "      <th></th>\n",
       "      <th>사업장명</th>\n",
       "      <th>사업자등록번호</th>\n",
       "      <th>사업장업종코드명</th>\n",
       "      <th>가입자수</th>\n",
       "      <th>상실가입자수</th>\n",
       "      <th>퇴직률</th>\n",
       "      <th>평균급여</th>\n",
       "      <th>복지</th>\n",
       "      <th>뉴스</th>\n",
       "    </tr>\n",
       "  </thead>\n",
       "  <tbody>\n",
       "    <tr>\n",
       "      <th>0</th>\n",
       "      <td>(주)예람</td>\n",
       "      <td>305814.0</td>\n",
       "      <td>기타 정보 기술 및 컴퓨터 운영 관련 서비스업</td>\n",
       "      <td>5</td>\n",
       "      <td>0.0</td>\n",
       "      <td>5</td>\n",
       "      <td>3</td>\n",
       "      <td>3</td>\n",
       "      <td>2</td>\n",
       "    </tr>\n",
       "    <tr>\n",
       "      <th>1</th>\n",
       "      <td>(주)예람</td>\n",
       "      <td>301816.0</td>\n",
       "      <td>도배  실내 장식 및 내장 목공사업</td>\n",
       "      <td>1</td>\n",
       "      <td>0.0</td>\n",
       "      <td>5</td>\n",
       "      <td>2</td>\n",
       "      <td>3</td>\n",
       "      <td>2</td>\n",
       "    </tr>\n",
       "    <tr>\n",
       "      <th>2</th>\n",
       "      <td>주식회사예람</td>\n",
       "      <td>130864.0</td>\n",
       "      <td>장례식장 및 장의관련 서비스업</td>\n",
       "      <td>1</td>\n",
       "      <td>0.0</td>\n",
       "      <td>5</td>\n",
       "      <td>1</td>\n",
       "      <td>3</td>\n",
       "      <td>2</td>\n",
       "    </tr>\n",
       "    <tr>\n",
       "      <th>3</th>\n",
       "      <td>(주)티아이</td>\n",
       "      <td>513814.0</td>\n",
       "      <td>기타 반도체 소자 제조업</td>\n",
       "      <td>4</td>\n",
       "      <td>2.0</td>\n",
       "      <td>5</td>\n",
       "      <td>4</td>\n",
       "      <td>4</td>\n",
       "      <td>5</td>\n",
       "    </tr>\n",
       "    <tr>\n",
       "      <th>4</th>\n",
       "      <td>(주)티아이</td>\n",
       "      <td>137819.0</td>\n",
       "      <td>기타 반도체 소자 제조업</td>\n",
       "      <td>1</td>\n",
       "      <td>0.0</td>\n",
       "      <td>5</td>\n",
       "      <td>2</td>\n",
       "      <td>4</td>\n",
       "      <td>5</td>\n",
       "    </tr>\n",
       "  </tbody>\n",
       "</table>\n",
       "</div>"
      ],
      "text/plain": [
       "     사업장명   사업자등록번호                   사업장업종코드명 가입자수  상실가입자수 퇴직률 평균급여 복지 뉴스\n",
       "0   (주)예람  305814.0  기타 정보 기술 및 컴퓨터 운영 관련 서비스업    5     0.0   5    3  3  2\n",
       "1   (주)예람  301816.0        도배  실내 장식 및 내장 목공사업    1     0.0   5    2  3  2\n",
       "2  주식회사예람  130864.0           장례식장 및 장의관련 서비스업    1     0.0   5    1  3  2\n",
       "3  (주)티아이  513814.0              기타 반도체 소자 제조업    4     2.0   5    4  4  5\n",
       "4  (주)티아이  137819.0              기타 반도체 소자 제조업    1     0.0   5    2  4  5"
      ]
     },
     "execution_count": 27,
     "metadata": {},
     "output_type": "execute_result"
    }
   ],
   "source": [
    "# 가입자 수에 따른 등급 부여 -> 한 등급 당 동일 개수의 회사\n",
    "merge_data2['가입자수'] = pd.qcut(merge_data2['가입자수'], 5, labels = list(range(1, 6)))\n",
    "\n",
    "# 퇴직률, 평균급여, 복지, 뉴스 등급 부여 -> 구간 별 등급 부여\n",
    "merge_data2['퇴직률'] = pd.cut(merge_data2['퇴직률'], 5, labels = list(range(1, 6)))\n",
    "merge_data2['평균급여'] = pd.cut(merge_data2['평균급여'], 5, labels = list(range(1, 6)))\n",
    "merge_data2['복지'] = pd.cut(merge_data2['복지'], 5, labels = list(range(1, 6)))\n",
    "merge_data2['뉴스'] = pd.cut(merge_data2['뉴스'], 5, labels = list(range(1, 6)))\n",
    "merge_data2.head()"
   ]
  },
  {
   "cell_type": "code",
   "execution_count": 28,
   "metadata": {},
   "outputs": [
    {
     "data": {
      "text/html": [
       "<div>\n",
       "<style scoped>\n",
       "    .dataframe tbody tr th:only-of-type {\n",
       "        vertical-align: middle;\n",
       "    }\n",
       "\n",
       "    .dataframe tbody tr th {\n",
       "        vertical-align: top;\n",
       "    }\n",
       "\n",
       "    .dataframe thead th {\n",
       "        text-align: right;\n",
       "    }\n",
       "</style>\n",
       "<table border=\"1\" class=\"dataframe\">\n",
       "  <thead>\n",
       "    <tr style=\"text-align: right;\">\n",
       "      <th></th>\n",
       "      <th>사업장명</th>\n",
       "      <th>사업자등록번호</th>\n",
       "      <th>사업장업종코드명</th>\n",
       "      <th>항목</th>\n",
       "      <th>등급</th>\n",
       "    </tr>\n",
       "  </thead>\n",
       "  <tbody>\n",
       "    <tr>\n",
       "      <th>0</th>\n",
       "      <td>(주)예람</td>\n",
       "      <td>305814.0</td>\n",
       "      <td>기타 정보 기술 및 컴퓨터 운영 관련 서비스업</td>\n",
       "      <td>가입자수</td>\n",
       "      <td>5</td>\n",
       "    </tr>\n",
       "    <tr>\n",
       "      <th>1</th>\n",
       "      <td>(주)예람</td>\n",
       "      <td>301816.0</td>\n",
       "      <td>도배  실내 장식 및 내장 목공사업</td>\n",
       "      <td>가입자수</td>\n",
       "      <td>1</td>\n",
       "    </tr>\n",
       "    <tr>\n",
       "      <th>2</th>\n",
       "      <td>주식회사예람</td>\n",
       "      <td>130864.0</td>\n",
       "      <td>장례식장 및 장의관련 서비스업</td>\n",
       "      <td>가입자수</td>\n",
       "      <td>1</td>\n",
       "    </tr>\n",
       "    <tr>\n",
       "      <th>3</th>\n",
       "      <td>(주)티아이</td>\n",
       "      <td>513814.0</td>\n",
       "      <td>기타 반도체 소자 제조업</td>\n",
       "      <td>가입자수</td>\n",
       "      <td>4</td>\n",
       "    </tr>\n",
       "    <tr>\n",
       "      <th>4</th>\n",
       "      <td>(주)티아이</td>\n",
       "      <td>137819.0</td>\n",
       "      <td>기타 반도체 소자 제조업</td>\n",
       "      <td>가입자수</td>\n",
       "      <td>1</td>\n",
       "    </tr>\n",
       "  </tbody>\n",
       "</table>\n",
       "</div>"
      ],
      "text/plain": [
       "     사업장명   사업자등록번호                   사업장업종코드명    항목 등급\n",
       "0   (주)예람  305814.0  기타 정보 기술 및 컴퓨터 운영 관련 서비스업  가입자수  5\n",
       "1   (주)예람  301816.0        도배  실내 장식 및 내장 목공사업  가입자수  1\n",
       "2  주식회사예람  130864.0           장례식장 및 장의관련 서비스업  가입자수  1\n",
       "3  (주)티아이  513814.0              기타 반도체 소자 제조업  가입자수  4\n",
       "4  (주)티아이  137819.0              기타 반도체 소자 제조업  가입자수  1"
      ]
     },
     "execution_count": 28,
     "metadata": {},
     "output_type": "execute_result"
    }
   ],
   "source": [
    "# 태블로에서 방사형 데이터를 그리기 위해 데이터 melting\n",
    "cut_data = pd.melt(merge_data2.drop(columns=['상실가입자수']), id_vars=['사업장명', '사업자등록번호', '사업장업종코드명'])\n",
    "cut_data.columns = ['사업장명',\t'사업자등록번호',\t'사업장업종코드명',\t'항목',\t'등급']\n",
    "cut_data.head()"
   ]
  },
  {
   "cell_type": "code",
   "execution_count": null,
   "metadata": {},
   "outputs": [],
   "source": [
    "cut_data.to_excel(\"../data/방사형데이터_구간화.xlsx\", index=False, encoding = 'UTF-8-sig')"
   ]
  },
  {
   "cell_type": "code",
   "execution_count": null,
   "metadata": {},
   "outputs": [],
   "source": []
  },
  {
   "cell_type": "markdown",
   "metadata": {},
   "source": [
    "#### 인터뷰 내용 추가"
   ]
  },
  {
   "cell_type": "code",
   "execution_count": 29,
   "metadata": {},
   "outputs": [
    {
     "data": {
      "text/html": [
       "<div>\n",
       "<style scoped>\n",
       "    .dataframe tbody tr th:only-of-type {\n",
       "        vertical-align: middle;\n",
       "    }\n",
       "\n",
       "    .dataframe tbody tr th {\n",
       "        vertical-align: top;\n",
       "    }\n",
       "\n",
       "    .dataframe thead th {\n",
       "        text-align: right;\n",
       "    }\n",
       "</style>\n",
       "<table border=\"1\" class=\"dataframe\">\n",
       "  <thead>\n",
       "    <tr style=\"text-align: right;\">\n",
       "      <th></th>\n",
       "      <th>busiNo</th>\n",
       "      <th>compNm</th>\n",
       "      <th>Q</th>\n",
       "      <th>A</th>\n",
       "      <th>회사이름</th>\n",
       "    </tr>\n",
       "  </thead>\n",
       "  <tbody>\n",
       "    <tr>\n",
       "      <th>0</th>\n",
       "      <td>3058140342</td>\n",
       "      <td>(주)예람</td>\n",
       "      <td>회사의 주력 분야 등 간단한 회사 소개를 해주세요.</td>\n",
       "      <td>1999년도에 창립하여 19년째 운영중인 ㈜예람의 주력 사업 분야 중 첫 번째는 입...</td>\n",
       "      <td>예람</td>\n",
       "    </tr>\n",
       "    <tr>\n",
       "      <th>1</th>\n",
       "      <td>3058140342</td>\n",
       "      <td>(주)예람</td>\n",
       "      <td>회사의 장기적인 목표나 경영 철학이 있으신가요?</td>\n",
       "      <td>경영 철학이자 회사의 4대 이념으로 가치, 인정, 나눔, 신용이 있습니다. \\r\\n...</td>\n",
       "      <td>예람</td>\n",
       "    </tr>\n",
       "    <tr>\n",
       "      <th>2</th>\n",
       "      <td>3058140342</td>\n",
       "      <td>(주)예람</td>\n",
       "      <td>타사와 비교했을 때 귀사의 장점은 무엇인가요?</td>\n",
       "      <td>직원의 성장을 위해 전폭적인 지원을 합니다. 업무관련 역량을 위한 내/외부 교육지원...</td>\n",
       "      <td>예람</td>\n",
       "    </tr>\n",
       "    <tr>\n",
       "      <th>3</th>\n",
       "      <td>3058140342</td>\n",
       "      <td>(주)예람</td>\n",
       "      <td>회사의 채용절차 및 선호하는 인재상은 어떻게 되나요?</td>\n",
       "      <td>주로 배움에 대한 열정, 올바른 인성을 갖춘 인재를 선호합니다. 채용절차는 1차 서...</td>\n",
       "      <td>예람</td>\n",
       "    </tr>\n",
       "    <tr>\n",
       "      <th>4</th>\n",
       "      <td>3058140342</td>\n",
       "      <td>(주)예람</td>\n",
       "      <td>신입 평균 급여수준 및 인사 제도 현황에 대해 알 수 있나요?</td>\n",
       "      <td>신입 평균 급여는 올해 2,200만원입니다. 연봉 외에는 부서 성과에 따른 성과급 ...</td>\n",
       "      <td>예람</td>\n",
       "    </tr>\n",
       "  </tbody>\n",
       "</table>\n",
       "</div>"
      ],
      "text/plain": [
       "       busiNo compNm                                   Q  \\\n",
       "0  3058140342  (주)예람        회사의 주력 분야 등 간단한 회사 소개를 해주세요.   \n",
       "1  3058140342  (주)예람          회사의 장기적인 목표나 경영 철학이 있으신가요?   \n",
       "2  3058140342  (주)예람           타사와 비교했을 때 귀사의 장점은 무엇인가요?   \n",
       "3  3058140342  (주)예람       회사의 채용절차 및 선호하는 인재상은 어떻게 되나요?   \n",
       "4  3058140342  (주)예람  신입 평균 급여수준 및 인사 제도 현황에 대해 알 수 있나요?   \n",
       "\n",
       "                                                   A 회사이름  \n",
       "0  1999년도에 창립하여 19년째 운영중인 ㈜예람의 주력 사업 분야 중 첫 번째는 입...   예람  \n",
       "1  경영 철학이자 회사의 4대 이념으로 가치, 인정, 나눔, 신용이 있습니다. \\r\\n...   예람  \n",
       "2  직원의 성장을 위해 전폭적인 지원을 합니다. 업무관련 역량을 위한 내/외부 교육지원...   예람  \n",
       "3  주로 배움에 대한 열정, 올바른 인성을 갖춘 인재를 선호합니다. 채용절차는 1차 서...   예람  \n",
       "4  신입 평균 급여는 올해 2,200만원입니다. 연봉 외에는 부서 성과에 따른 성과급 ...   예람  "
      ]
     },
     "execution_count": 29,
     "metadata": {},
     "output_type": "execute_result"
    }
   ],
   "source": [
    "interview = pd.read_csv(\"../data/탐방기업_QA.csv\")\n",
    "interview['회사이름'] = interview['compNm']\n",
    "interview['회사이름'].replace(\"주식회사\", '', regex=True, inplace=True)\n",
    "interview['회사이름'].replace(\"\\(주\\)\", '', regex=True, inplace=True)\n",
    "interview['회사이름'].replace(\" \", '', regex=True, inplace=True)\n",
    "interview.head()"
   ]
  },
  {
   "cell_type": "code",
   "execution_count": null,
   "metadata": {},
   "outputs": [],
   "source": [
    "# 첫번째 질문만\n",
    "interview.drop_duplicates(subset = ['busiNo', 'compNm'], keep='first', ignore_index=True, inplace=True)"
   ]
  },
  {
   "cell_type": "code",
   "execution_count": null,
   "metadata": {},
   "outputs": [],
   "source": [
    "radar_data = cut_data\n",
    "\n",
    "for row in interview.iterrows():\n",
    "    busiNo = int(str(row[1]['busiNo'])[:6])\n",
    "    comp = row[1]['회사이름']\n",
    "\n",
    "    # 인터뷰한 기업의 등급 정보\n",
    "    interv_comp = radar_data[(radar_data['회사이름'] == comp)&(radar_data['사업자등록번호'] == busiNo)]\n",
    "    for vals in interv_comp.iterrows():\n",
    "        idx = vals[0] # index\n",
    "        if '소개' in row[1]['Q']:\n",
    "            radar_data.at[idx, 'Q'] = '기업 정보'\n",
    "        else:\n",
    "            radar_data.at[idx, 'Q'] = row[1]['Q']\n",
    "            # print(row[1]['Q'])\n",
    "        radar_data.at[idx, 'A'] = row[1]['A'].replace(\"\\r\\n\", \" \")\n",
    "\n",
    "radar_data = radar_data.dropna().reset_index(drop=True)"
   ]
  },
  {
   "cell_type": "code",
   "execution_count": null,
   "metadata": {},
   "outputs": [],
   "source": [
    "radar_data.to_excel(\"../data/방사형데이터_인터뷰추가.xlsx\", index=False)"
   ]
  }
 ],
 "metadata": {
  "interpreter": {
   "hash": "8fac594bfae6525c0c41b4041d2d72effa188cc8ead05f81b1fab2bb098927fb"
  },
  "kernelspec": {
   "display_name": "Python 3.8.8 ('base')",
   "language": "python",
   "name": "python3"
  },
  "language_info": {
   "codemirror_mode": {
    "name": "ipython",
    "version": 3
   },
   "file_extension": ".py",
   "mimetype": "text/x-python",
   "name": "python",
   "nbconvert_exporter": "python",
   "pygments_lexer": "ipython3",
   "version": "3.8.8"
  },
  "orig_nbformat": 4
 },
 "nbformat": 4,
 "nbformat_minor": 2
}
